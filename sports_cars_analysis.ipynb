{
 "cells": [
  {
   "cell_type": "markdown",
   "metadata": {},
   "source": [
    "# Elite Sports Cars Analysis\n",
    "\n",
    "This notebook performs an in-depth analysis of the Elite Sports Cars dataset, which contains information about 5,000 sports cars including features like horsepower, price, fuel efficiency, and more.\n",
    "\n",
    "## Analysis Overview\n",
    "1. Data Loading and Exploration\n",
    "2. Feature Engineering and Preprocessing\n",
    "3. Outlier Detection\n",
    "4. Price Prediction Modeling\n",
    "5. Feature Importance Analysis\n",
    "6. Market Segment Analysis\n",
    "\n",
    "Let's begin by importing the necessary libraries and loading our data."
   ]
  },
  {
   "cell_type": "code",
   "execution_count": null,
   "metadata": {},
   "source": [
    "# Import required libraries\n",
    "import pandas as pd\n",
    "import numpy as np\n",
    "import matplotlib.pyplot as plt\n",
    "import seaborn as sns\n",
    "from sklearn.model_selection import train_test_split, cross_val_score\n",
    "from sklearn.preprocessing import StandardScaler, LabelEncoder, RobustScaler\n",
    "from sklearn.metrics import mean_squared_error, r2_score, mean_absolute_error\n",
    "from sklearn.ensemble import RandomForestRegressor, IsolationForest\n",
    "import xgboost as xgb\n",
    "import warnings\n",
    "warnings.filterwarnings('ignore')\n",
    "\n",
    "# Set style for better visualizations\n",
    "plt.style.use('seaborn')\n",
    "sns.set_palette(\"husl\")\n",
    "%matplotlib inline"
   ]
  },
  {
   "cell_type": "markdown",
   "metadata": {},
   "source": [
    "## 1. Data Loading and Initial Exploration\n",
    "\n",
    "Let's load our dataset and examine its basic properties."
   ]
  },
  {
   "cell_type": "code",
   "execution_count": null,
   "metadata": {},
   "source": [
    "# Load the dataset\n",
    "df = pd.read_csv('Elite Sports Cars in Data.csv')\n",
    "\n",
    "# Display basic information about the dataset\n",
    "print(\"Dataset Shape:\", df.shape)\n",
    "print(\"\\nFirst few rows:\")\n",
    "display(df.head())\n",
    "\n",
    "print(\"\\nDataset Info:\")\n",
    "display(df.info())\n",
    "\n",
    "print(\"\\nBasic Statistics:\")\n",
    "display(df.describe())"
   ]
  },
  {
   "cell_type": "markdown",
   "metadata": {},
   "source": [
    "## 2. Feature Engineering and Preprocessing\n",
    "\n",
    "We'll create several helper functions to process our data and engineer new features."
   ]
  },
  {
   "cell_type": "code",
   "execution_count": null,
   "metadata": {},
   "source": [
    "def detect_outliers(df, columns):\n",
    "    \"\"\"Detect outliers using Isolation Forest\"\"\"\n",
    "    iso_forest = IsolationForest(contamination=0.1, random_state=42)\n",
    "    outliers = iso_forest.fit_predict(df[columns])\n",
    "    return outliers == -1\n",
    "\n",
    "def preprocess_data(df):\n",
    "    \"\"\"Preprocess data and engineer features\"\"\"\n",
    "    # Create label encoders for categorical variables\n",
    "    le_dict = {}\n",
    "    categorical_cols = ['Brand', 'Country', 'Condition', 'Fuel_Type', 'Drivetrain', \n",
    "                       'Transmission', 'Popularity', 'Market_Demand']\n",
    "    \n",
    "    for col in categorical_cols:\n",
    "        le_dict[col] = LabelEncoder()\n",
    "        df[f'{col}_encoded'] = le_dict[col].fit_transform(df[col])\n",
    "    \n",
    "    # Create advanced features\n",
    "    df['Age'] = 2025 - df['Year']\n",
    "    df['Power_to_Weight'] = df['Horsepower'] / df['Weight']\n",
    "    df['Performance_Index'] = (df['Horsepower'] * df['Torque']) / df['Weight']\n",
    "    df['Maintenance_Score'] = df['Insurance_Cost'] * df['Number_of_Owners']\n",
    "    df['Rarity_Score'] = 1 / df['Production_Units']\n",
    "    \n",
    "    # Log transform appropriate numerical features\n",
    "    numeric_cols = ['Price', 'Mileage', 'Insurance_Cost', 'Production_Units']\n",
    "    for col in numeric_cols:\n",
    "        df[f'{col}_log'] = np.log1p(df[col])\n",
    "    \n",
    "    # Detect outliers\n",
    "    outlier_cols = ['Price', 'Horsepower', 'Mileage', 'Insurance_Cost']\n",
    "    df['is_outlier'] = detect_outliers(df, outlier_cols)\n",
    "    \n",
    "    # Create price segments\n",
    "    df['PriceSegment'] = pd.qcut(df['Price'], q=4, labels=['Budget', 'Mid-Range', 'Premium', 'Luxury'])\n",
    "    \n",
    "    return df, le_dict\n",
    "\n",
    "# Process the data\n",
    "df, le_dict = preprocess_data(df)\n",
    "\n",
    "# Display new features\n",
    "print(\"Newly created features:\")\n",
    "new_features = ['Age', 'Power_to_Weight', 'Performance_Index', 'Maintenance_Score', 'Rarity_Score']\n",
    "display(df[new_features].describe())"
   ]
  },
  {
   "cell_type": "markdown",
   "metadata": {},
   "source": [
    "## 3. Exploratory Data Analysis\n",
    "\n",
    "Let's visualize some key relationships in our data."
   ]
  },
  {
   "cell_type": "code",
   "execution_count": null,
   "metadata": {},
   "source": [
    "plt.figure(figsize=(20, 15))\n",
    "\n",
    "# 1. Price Distribution\n",
    "plt.subplot(2, 2, 1)\n",
    "sns.histplot(data=df, x='Price_log', bins=30)\n",
    "plt.title('Price Distribution (Log Scale)')\n",
    "\n",
    "# 2. Price vs Horsepower\n",
    "plt.subplot(2, 2, 2)\n",
    "sns.scatterplot(data=df, x='Horsepower', y='Price', hue='Condition', alpha=0.6)\n",
    "plt.title('Price vs Horsepower by Condition')\n",
    "\n",
    "# 3. Price by Market Demand\n",
    "plt.subplot(2, 2, 3)\n",
    "sns.boxplot(data=df, x='Market_Demand', y='Price')\n",
    "plt.title('Price Distribution by Market Demand')\n",
    "plt.xticks(rotation=45)\n",
    "\n",
    "# 4. Price vs Age\n",
    "plt.subplot(2, 2, 4)\n",
    "sns.scatterplot(data=df, x='Age', y='Price', hue='Popularity', alpha=0.6)\n",
    "plt.title('Price vs Age by Popularity')\n",
    "\n",
    "plt.tight_layout()\n",
    "plt.show()"
   ]
  },
  {
   "cell_type": "markdown",
   "metadata": {},
   "source": [
    "## 4. Prepare Data for Modeling\n",
    "\n",
    "Now let's prepare our features for the price prediction model."
   ]
  },
  {
   "cell_type": "code",
   "execution_count": null,
   "metadata": {},
   "source": [
    "def prepare_features(df):\n",
    "    features = [\n",
    "        'Age', 'Engine_Size', 'Horsepower', 'Torque', 'Weight', \n",
    "        'Top_Speed', 'Acceleration_0_100', 'Fuel_Efficiency',\n",
    "        'CO2_Emissions', 'Mileage_log', 'Safety_Rating',\n",
    "        'Number_of_Owners', 'Insurance_Cost_log', 'Production_Units_log',\n",
    "        'Power_to_Weight', 'Performance_Index', 'Maintenance_Score',\n",
    "        'Rarity_Score', 'Brand_encoded', 'Country_encoded',\n",
    "        'Condition_encoded', 'Fuel_Type_encoded', 'Drivetrain_encoded',\n",
    "        'Transmission_encoded', 'Market_Demand_encoded'\n",
    "    ]\n",
    "    \n",
    "    X = df[features]\n",
    "    y = df['Price_log']\n",
    "    \n",
    "    # Scale features\n",
    "    scaler = RobustScaler()\n",
    "    X_scaled = scaler.fit_transform(X)\n",
    "    X_scaled = pd.DataFrame(X_scaled, columns=features)\n",
    "    \n",
    "    return X_scaled, y, features\n",
    "\n",
    "# Remove outliers and prepare features\n",
    "df_clean = df[~df['is_outlier']].copy()\n",
    "X, y, features = prepare_features(df_clean)\n",
    "\n",
    "# Split data\n",
    "X_train, X_test, y_train, y_test = train_test_split(X, y, test_size=0.2, random_state=42)\n",
    "\n",
    "print(\"Training set shape:\", X_train.shape)\n",
    "print(\"Test set shape:\", X_test.shape)"
   ]
  },
  {
   "cell_type": "markdown",
   "metadata": {},
   "source": [
    "## 5. Model Training and Evaluation\n",
    "\n",
    "We'll use XGBoost for our price prediction model."
   ]
  },
  {
   "cell_type": "code",
   "execution_count": null,
   "metadata": {},
   "source": [
    "# Train model\n",
    "model = xgb.XGBRegressor(\n",
    "    n_estimators=200,\n",
    "    learning_rate=0.1,\n",
    "    max_depth=7,\n",
    "    random_state=42\n",
    ")\n",
    "model.fit(X_train, y_train)\n",
    "\n",
    "# Model evaluation\n",
    "y_pred = model.predict(X_test)\n",
    "r2 = r2_score(y_test, y_pred)\n",
    "rmse = np.sqrt(mean_squared_error(y_test, y_pred))\n",
    "mae = mean_absolute_error(y_test, y_pred)\n",
    "\n",
    "print(\"Model Performance:\")\n",
    "print(f\"R² Score: {r2:.3f}\")\n",
    "print(f\"RMSE: ${np.exp(rmse):,.2f}\")\n",
    "print(f\"MAE: ${np.exp(mae):,.2f}\")"
   ]
  },
  {
   "cell_type": "markdown",
   "metadata": {},
   "source": [
    "## 6. Feature Importance Analysis"
   ]
  },
  {
   "cell_type": "code",
   "execution_count": null,
   "metadata": {},
   "source": [
    "# Feature importance analysis\n",
    "feature_importance = pd.DataFrame({\n",
    "    'feature': features,\n",
    "    'importance': model.feature_importances_\n",
    "}).sort_values('importance', ascending=False)\n",
    "\n",
    "plt.figure(figsize=(12, 6))\n",
    "sns.barplot(data=feature_importance.head(10), x='importance', y='feature')\n",
    "plt.title('Top 10 Most Important Features')\n",
    "plt.xlabel('Feature Importance')\n",
    "plt.tight_layout()\n",
    "plt.show()\n",
    "\n",
    "print(\"\\nTop 10 Most Important Features:\")\n",
    "display(feature_importance.head(10))"
   ]
  },
  {
   "cell_type": "markdown",
   "metadata": {},
   "source": [
    "## 7. Market Segment Analysis"
   ]
  },
  {
   "cell_type": "code",
   "execution_count": null,
   "metadata": {},
   "source": [
    "# Analyze price segments\n",
    "segment_stats = df.groupby('PriceSegment').agg({\n",
    "    'Price': ['count', 'mean', 'std'],\n",
    "    'Horsepower': 'mean',\n",
    "    'Mileage': 'mean'\n",
    "}).round(2)\n",
    "\n",
    "print(\"Price Segment Statistics:\")\n",
    "display(segment_stats)\n",
    "\n",
    "# Visualize price segments\n",
    "plt.figure(figsize=(12, 6))\n",
    "sns.boxplot(data=df, x='PriceSegment', y='Price')\n",
    "plt.title('Price Distribution by Segment')\n",
    "plt.xticks(rotation=45)\n",
    "plt.tight_layout()\n",
    "plt.show()"
   ]
  },
  {
   "cell_type": "markdown",
   "metadata": {},
   "source": [
    "## 8. Brand Analysis"
   ]
  },
  {
   "cell_type": "code",
   "execution_count": null,
   "metadata": {},
   "source": [
    "# Analyze brands\n",
    "brand_stats = df.groupby('Brand').agg({\n",
    "    'Price': ['mean', 'count'],\n",
    "    'Horsepower': 'mean',\n",
    "    'Market_Demand': lambda x: x.mode().iloc[0] if not x.empty else None\n",
    "}).round(2)\n",
    "\n",
    "# Sort by average price\n",
    "brand_stats = brand_stats.sort_values(('Price', 'mean'), ascending=False)\n",
    "\n",
    "print(\"Top 10 Brands by Average Price:\")\n",
    "display(brand_stats.head(10))\n",
    "\n",
    "# Visualize top brands\n",
    "plt.figure(figsize=(12, 6))\n",
    "top_brands = brand_stats.head(10).index\n",
    "sns.boxplot(data=df[df['Brand'].isin(top_brands)], x='Brand', y='Price')\n",
    "plt.title('Price Distribution for Top 10 Brands')\n",
    "plt.xticks(rotation=45)\n",
    "plt.tight_layout()\n",
    "plt.show()"
   ]
  },
  {
   "cell_type": "markdown",
   "metadata": {},
   "source": [
    "## 9. Conclusions\n",
    "\n",
    "Key findings from our analysis:\n",
    "\n",
    "1. **Model Performance**:\n",
    "   - The model's performance suggests that car pricing is complex and influenced by many factors\n",
    "   - The log transformation of the price helped handle the price variability\n",
    "\n",
    "2. **Important Features**:\n",
    "   - Performance-related features (Horsepower, Torque) are significant price determinants\n",
    "   - Market factors (Rarity, Brand) also play important roles\n",
    "\n",
    "3. **Market Segments**:\n",
    "   - Clear price segmentation exists in the market\n",
    "   - Each segment shows distinct characteristics in terms of performance and features\n",
    "\n",
    "4. **Brand Impact**:\n",
    "   - Significant price variations exist between brands\n",
    "   - Premium brands command higher prices regardless of specifications\n",
    "\n",
    "This analysis provides valuable insights for understanding the sports car market and the factors that influence car prices."
   ]
  }
 ],
 "metadata": {
  "kernelspec": {
   "display_name": "Python 3",
   "language": "python",
   "name": "python3"
  },
  "language_info": {
   "codemirror_mode": {
    "name": "ipython",
    "version": 3
   },
   "file_extension": ".py",
   "mimetype": "text/x-python",
   "name": "python",
   "nbconvert_exporter": "python",
   "pygments_lexer": "ipython3",
   "version": "3.8.0"
  }
 },
 "nbformat": 4,
 "nbformat_minor": 4
}
